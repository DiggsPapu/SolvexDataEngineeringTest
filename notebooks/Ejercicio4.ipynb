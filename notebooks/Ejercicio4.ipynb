{
 "cells": [
  {
   "cell_type": "code",
   "execution_count": 2,
   "id": "5d62a15a-6a4a-44bc-bc64-ce2fd18867b2",
   "metadata": {
    "tags": []
   },
   "outputs": [
    {
     "name": "stdout",
     "output_type": "stream",
     "text": [
      "\u001b[33mWARNING: The directory '/home/jovyan/.cache/pip' or its parent directory is not owned or is not writable by the current user. The cache has been disabled. Check the permissions and owner of that directory. If executing pip with sudo, you should use sudo's -H flag.\u001b[0m\u001b[33m\n",
      "\u001b[0mRequirement already satisfied: requests in /opt/conda/lib/python3.11/site-packages (2.31.0)\n",
      "Requirement already satisfied: beautifulsoup4 in /opt/conda/lib/python3.11/site-packages (4.12.2)\n",
      "Requirement already satisfied: charset-normalizer<4,>=2 in /opt/conda/lib/python3.11/site-packages (from requests) (3.3.0)\n",
      "Requirement already satisfied: idna<4,>=2.5 in /opt/conda/lib/python3.11/site-packages (from requests) (3.4)\n",
      "Requirement already satisfied: urllib3<3,>=1.21.1 in /opt/conda/lib/python3.11/site-packages (from requests) (2.0.7)\n",
      "Requirement already satisfied: certifi>=2017.4.17 in /opt/conda/lib/python3.11/site-packages (from requests) (2023.7.22)\n",
      "Requirement already satisfied: soupsieve>1.2 in /opt/conda/lib/python3.11/site-packages (from beautifulsoup4) (2.5)\n",
      "\u001b[33mWARNING: Running pip as the 'root' user can result in broken permissions and conflicting behaviour with the system package manager, possibly rendering your system unusable. It is recommended to use a virtual environment instead: https://pip.pypa.io/warnings/venv. Use the --root-user-action option if you know what you are doing and want to suppress this warning.\u001b[0m\u001b[33m\n",
      "\u001b[0mNote: you may need to restart the kernel to use updated packages.\n"
     ]
    }
   ],
   "source": [
    "%pip install requests beautifulsoup4"
   ]
  },
  {
   "cell_type": "code",
   "execution_count": 10,
   "id": "52d89be8-771e-4532-b389-b490f0887b58",
   "metadata": {
    "tags": []
   },
   "outputs": [
    {
     "name": "stdout",
     "output_type": "stream",
     "text": [
      "$106,955.39\n"
     ]
    }
   ],
   "source": [
    "import requests \n",
    "from bs4 import BeautifulSoup \n",
    " \n",
    "# URL de la página de CoinMarketCap \n",
    "url = 'https://coinmarketcap.com/currencies/bitcoin/' \n",
    " \n",
    "# Realiza una solicitud GET para obtener el contenido de la página \n",
    "response = requests.get(url) \n",
    " \n",
    "# Verifica si la solicitud fue exitosa (código de respuesta 200) \n",
    "if response.status_code == 200: \n",
    "    # Analiza el contenido de la página web con BeautifulSoup \n",
    "    soup = BeautifulSoup(response.text, 'html.parser') \n",
    "    \n",
    "    # Encuentra el elemento que contiene el precio actual del Bitcoin \n",
    "    # Pista: Inspecciona la página web para identificar el elemento adecuado \n",
    "    price_element = soup.find('span', {'data-test': 'text-cdp-price-display'})\n",
    "    # Extrae el precio del elemento y almacénalo en una variable \n",
    "    bitcoin_price = None\n",
    "    if price_element != None:\n",
    "        bitcoin_price = price_element.text.strip()\n",
    "    # Imprime el precio en la consola \n",
    "    if bitcoin_price: print(bitcoin_price)\n",
    "else: \n",
    "    print(f'Error al hacer la solicitud. Código de respuesta: {response.status_code}')"
   ]
  }
 ],
 "metadata": {
  "kernelspec": {
   "display_name": "Python 3 (ipykernel)",
   "language": "python",
   "name": "python3"
  },
  "language_info": {
   "codemirror_mode": {
    "name": "ipython",
    "version": 3
   },
   "file_extension": ".py",
   "mimetype": "text/x-python",
   "name": "python",
   "nbconvert_exporter": "python",
   "pygments_lexer": "ipython3",
   "version": "3.11.6"
  }
 },
 "nbformat": 4,
 "nbformat_minor": 5
}
