{
 "cells": [
  {
   "cell_type": "markdown",
   "metadata": {
    "application/vnd.databricks.v1+cell": {
     "cellMetadata": {},
     "inputWidgets": {},
     "nuid": "7f6a3dc6-4ff1-4faa-8add-6646fe512cee",
     "showTitle": false,
     "tableResultSettingsMap": {},
     "title": ""
    }
   },
   "source": [
    "## Importar las librerias"
   ]
  },
  {
   "cell_type": "code",
   "execution_count": 0,
   "metadata": {
    "application/vnd.databricks.v1+cell": {
     "cellMetadata": {
      "byteLimit": 2048000,
      "rowLimit": 10000
     },
     "inputWidgets": {},
     "nuid": "072b2a13-ed9c-46ab-8946-155e6fa0b88d",
     "showTitle": false,
     "tableResultSettingsMap": {},
     "title": ""
    }
   },
   "outputs": [],
   "source": [
    "from pyspark.sql import SparkSession, Row\n",
    "from pyspark.sql.types import IntegerType, StringType, FloatType\n",
    "from pyspark.sql.functions import avg\n",
    "import pandas as pd\n",
    "from pyspark.sql.functions import col"
   ]
  },
  {
   "cell_type": "markdown",
   "metadata": {
    "application/vnd.databricks.v1+cell": {
     "cellMetadata": {},
     "inputWidgets": {},
     "nuid": "4fa8a025-cf64-4a30-a92b-1d964d404eae",
     "showTitle": false,
     "tableResultSettingsMap": {},
     "title": ""
    }
   },
   "source": [
    "## Crear la sesion"
   ]
  },
  {
   "cell_type": "code",
   "execution_count": 0,
   "metadata": {
    "application/vnd.databricks.v1+cell": {
     "cellMetadata": {
      "byteLimit": 2048000,
      "rowLimit": 10000
     },
     "inputWidgets": {},
     "nuid": "5f623bde-8fac-4c8c-87dc-f8bb3db1f88f",
     "showTitle": false,
     "tableResultSettingsMap": {},
     "title": ""
    }
   },
   "outputs": [],
   "source": [
    "spark = SparkSession.builder \\\n",
    "    .master(\"local\") \\\n",
    "    .appName(\"Ejercicio 3\") \\\n",
    "    .getOrCreate()"
   ]
  },
  {
   "cell_type": "markdown",
   "metadata": {
    "application/vnd.databricks.v1+cell": {
     "cellMetadata": {},
     "inputWidgets": {},
     "nuid": "396bc77a-a97f-4392-b92e-bd18072a8257",
     "showTitle": false,
     "tableResultSettingsMap": {},
     "title": ""
    }
   },
   "source": [
    "## Crear los dataframes en pandas y spark"
   ]
  },
  {
   "cell_type": "code",
   "execution_count": 0,
   "metadata": {
    "application/vnd.databricks.v1+cell": {
     "cellMetadata": {
      "byteLimit": 2048000,
      "rowLimit": 10000
     },
     "inputWidgets": {},
     "nuid": "12f9bccb-a36c-4a4b-b3cd-fbff1f257945",
     "showTitle": false,
     "tableResultSettingsMap": {},
     "title": ""
    }
   },
   "outputs": [
    {
     "output_type": "stream",
     "name": "stdout",
     "output_type": "stream",
     "text": [
      "+----------+--------+----------+\n|PeliculaID| Critico|Puntuacion|\n+----------+--------+----------+\n|         1|Critico1|       3.2|\n|         2|Critico2|       3.4|\n|         3|Critico3|       4.8|\n|         4|Critico1|       4.0|\n|         5|Critico2|       4.9|\n|         6|Critico3|       2.0|\n|         7|Critico1|       1.5|\n|         8|Critico2|       5.0|\n|         9|Critico3|       1.0|\n|        10|Critico0|       5.0|\n|         1|Critico1|       4.2|\n|         2|Critico2|       2.4|\n|         3|Critico3|       1.8|\n|         4|Critico1|       2.0|\n|         5|Critico2|       3.9|\n|         6|Critico3|       4.0|\n|         7|Critico1|       4.5|\n|         8|Critico2|       3.0|\n|         9|Critico3|       2.0|\n|        10|Critico0|       3.0|\n+----------+--------+----------+\nonly showing top 20 rows\n\n"
     ]
    }
   ],
   "source": [
    "data = [\n",
    "    Row(PeliculaID=1, Critico='Critico1', Puntuacion=3.2),\n",
    "    Row(PeliculaID=2, Critico='Critico2', Puntuacion=3.4),\n",
    "    Row(PeliculaID=3, Critico='Critico3', Puntuacion=4.8),\n",
    "    Row(PeliculaID=4, Critico='Critico1', Puntuacion=4.0),\n",
    "    Row(PeliculaID=5, Critico='Critico2', Puntuacion=4.9),\n",
    "    Row(PeliculaID=6, Critico='Critico3', Puntuacion=2.0),\n",
    "    Row(PeliculaID=7, Critico='Critico1', Puntuacion=1.5),\n",
    "    Row(PeliculaID=8, Critico='Critico2', Puntuacion=5.0),\n",
    "    Row(PeliculaID=9, Critico='Critico3', Puntuacion=1.0),\n",
    "    Row(PeliculaID=10, Critico='Critico0', Puntuacion=5.0),\n",
    "    Row(PeliculaID=1, Critico='Critico1', Puntuacion=4.2),\n",
    "    Row(PeliculaID=2, Critico='Critico2', Puntuacion=2.4),\n",
    "    Row(PeliculaID=3, Critico='Critico3', Puntuacion=1.8),\n",
    "    Row(PeliculaID=4, Critico='Critico1', Puntuacion=2.0),\n",
    "    Row(PeliculaID=5, Critico='Critico2', Puntuacion=3.9),\n",
    "    Row(PeliculaID=6, Critico='Critico3', Puntuacion=4.0),\n",
    "    Row(PeliculaID=7, Critico='Critico1', Puntuacion=4.5),\n",
    "    Row(PeliculaID=8, Critico='Critico2', Puntuacion=3.0),\n",
    "    Row(PeliculaID=9, Critico='Critico3', Puntuacion=2.0),\n",
    "    Row(PeliculaID=10, Critico='Critico0', Puntuacion=3.0),\n",
    "    Row(PeliculaID=1, Critico='Critico1', Puntuacion=3.2),\n",
    "    Row(PeliculaID=2, Critico='Critico2', Puntuacion=4.4),\n",
    "    Row(PeliculaID=3, Critico='Critico3', Puntuacion=2.8),\n",
    "    Row(PeliculaID=4, Critico='Critico1', Puntuacion=3.0),\n",
    "    Row(PeliculaID=5, Critico='Critico2', Puntuacion=3.9),\n",
    "    Row(PeliculaID=6, Critico='Critico3', Puntuacion=5.0),\n",
    "    Row(PeliculaID=7, Critico='Critico1', Puntuacion=3.5),\n",
    "    Row(PeliculaID=8, Critico='Critico2', Puntuacion=2.0),\n",
    "    Row(PeliculaID=9, Critico='Critico3', Puntuacion=4.0),\n",
    "    Row(PeliculaID=10, Critico='Critico0', Puntuacion=5.0)\n",
    "]\n",
    "\n",
    "df = spark.createDataFrame(data)\n",
    "df.show()"
   ]
  },
  {
   "cell_type": "code",
   "execution_count": 0,
   "metadata": {
    "application/vnd.databricks.v1+cell": {
     "cellMetadata": {
      "byteLimit": 2048000,
      "rowLimit": 10000
     },
     "inputWidgets": {},
     "nuid": "772a6444-3003-4d6b-a7d2-d8e01957f0ea",
     "showTitle": false,
     "tableResultSettingsMap": {},
     "title": ""
    }
   },
   "outputs": [
    {
     "output_type": "display_data",
     "data": {
      "text/html": [
       "<div>\n",
       "<style scoped>\n",
       "    .dataframe tbody tr th:only-of-type {\n",
       "        vertical-align: middle;\n",
       "    }\n",
       "\n",
       "    .dataframe tbody tr th {\n",
       "        vertical-align: top;\n",
       "    }\n",
       "\n",
       "    .dataframe thead th {\n",
       "        text-align: right;\n",
       "    }\n",
       "</style>\n",
       "<table border=\"1\" class=\"dataframe\">\n",
       "  <thead>\n",
       "    <tr style=\"text-align: right;\">\n",
       "      <th></th>\n",
       "      <th>ID</th>\n",
       "      <th>Titulo</th>\n",
       "      <th>Anio</th>\n",
       "    </tr>\n",
       "  </thead>\n",
       "  <tbody>\n",
       "    <tr>\n",
       "      <th>0</th>\n",
       "      <td>1</td>\n",
       "      <td>Pelicula1</td>\n",
       "      <td>2020</td>\n",
       "    </tr>\n",
       "    <tr>\n",
       "      <th>1</th>\n",
       "      <td>2</td>\n",
       "      <td>Pelicula2</td>\n",
       "      <td>2021</td>\n",
       "    </tr>\n",
       "    <tr>\n",
       "      <th>2</th>\n",
       "      <td>3</td>\n",
       "      <td>Pelicula3</td>\n",
       "      <td>2022</td>\n",
       "    </tr>\n",
       "    <tr>\n",
       "      <th>3</th>\n",
       "      <td>4</td>\n",
       "      <td>Pelicula4</td>\n",
       "      <td>2019</td>\n",
       "    </tr>\n",
       "    <tr>\n",
       "      <th>4</th>\n",
       "      <td>5</td>\n",
       "      <td>Pelicula5</td>\n",
       "      <td>2018</td>\n",
       "    </tr>\n",
       "    <tr>\n",
       "      <th>5</th>\n",
       "      <td>6</td>\n",
       "      <td>Pelicula6</td>\n",
       "      <td>2017</td>\n",
       "    </tr>\n",
       "    <tr>\n",
       "      <th>6</th>\n",
       "      <td>7</td>\n",
       "      <td>Pelicula7</td>\n",
       "      <td>2023</td>\n",
       "    </tr>\n",
       "    <tr>\n",
       "      <th>7</th>\n",
       "      <td>8</td>\n",
       "      <td>Pelicula8</td>\n",
       "      <td>2024</td>\n",
       "    </tr>\n",
       "    <tr>\n",
       "      <th>8</th>\n",
       "      <td>9</td>\n",
       "      <td>Pelicula9</td>\n",
       "      <td>2025</td>\n",
       "    </tr>\n",
       "    <tr>\n",
       "      <th>9</th>\n",
       "      <td>10</td>\n",
       "      <td>Pelicula10</td>\n",
       "      <td>2019</td>\n",
       "    </tr>\n",
       "  </tbody>\n",
       "</table>\n",
       "</div>"
      ]
     },
     "metadata": {
      "application/vnd.databricks.v1+output": {
       "addedWidgets": {},
       "arguments": {},
       "data": "<div>\n<style scoped>\n    .dataframe tbody tr th:only-of-type {\n        vertical-align: middle;\n    }\n\n    .dataframe tbody tr th {\n        vertical-align: top;\n    }\n\n    .dataframe thead th {\n        text-align: right;\n    }\n</style>\n<table border=\"1\" class=\"dataframe\">\n  <thead>\n    <tr style=\"text-align: right;\">\n      <th></th>\n      <th>ID</th>\n      <th>Titulo</th>\n      <th>Anio</th>\n    </tr>\n  </thead>\n  <tbody>\n    <tr>\n      <th>0</th>\n      <td>1</td>\n      <td>Pelicula1</td>\n      <td>2020</td>\n    </tr>\n    <tr>\n      <th>1</th>\n      <td>2</td>\n      <td>Pelicula2</td>\n      <td>2021</td>\n    </tr>\n    <tr>\n      <th>2</th>\n      <td>3</td>\n      <td>Pelicula3</td>\n      <td>2022</td>\n    </tr>\n    <tr>\n      <th>3</th>\n      <td>4</td>\n      <td>Pelicula4</td>\n      <td>2019</td>\n    </tr>\n    <tr>\n      <th>4</th>\n      <td>5</td>\n      <td>Pelicula5</td>\n      <td>2018</td>\n    </tr>\n    <tr>\n      <th>5</th>\n      <td>6</td>\n      <td>Pelicula6</td>\n      <td>2017</td>\n    </tr>\n    <tr>\n      <th>6</th>\n      <td>7</td>\n      <td>Pelicula7</td>\n      <td>2023</td>\n    </tr>\n    <tr>\n      <th>7</th>\n      <td>8</td>\n      <td>Pelicula8</td>\n      <td>2024</td>\n    </tr>\n    <tr>\n      <th>8</th>\n      <td>9</td>\n      <td>Pelicula9</td>\n      <td>2025</td>\n    </tr>\n    <tr>\n      <th>9</th>\n      <td>10</td>\n      <td>Pelicula10</td>\n      <td>2019</td>\n    </tr>\n  </tbody>\n</table>\n</div>",
       "datasetInfos": [],
       "metadata": {},
       "removedWidgets": [],
       "textData": null,
       "type": "htmlSandbox"
      }
     },
     "output_type": "display_data"
    }
   ],
   "source": [
    "pd_df = pd.DataFrame({\n",
    "    \"ID\":[1, 2, 3, 4, 5, 6, 7, 8, 9, 10],\n",
    "    \"Titulo\":[\"Pelicula1\", \"Pelicula2\", \"Pelicula3\", \"Pelicula4\", \"Pelicula5\", \"Pelicula6\", \"Pelicula7\", \"Pelicula8\", \"Pelicula9\",\"Pelicula10\"],\n",
    "    \"Anio\":[2020, 2021, 2022, 2019, 2018, 2017, 2023, 2024, 2025, 2019]\n",
    "})\n",
    "pd_df"
   ]
  },
  {
   "cell_type": "markdown",
   "metadata": {
    "application/vnd.databricks.v1+cell": {
     "cellMetadata": {},
     "inputWidgets": {},
     "nuid": "d8958c72-d30f-4e09-a579-0b1ca9aa506d",
     "showTitle": false,
     "tableResultSettingsMap": {},
     "title": ""
    }
   },
   "source": [
    "## Aplicar un esquema para que se integren los tipos de datos"
   ]
  },
  {
   "cell_type": "code",
   "execution_count": 0,
   "metadata": {
    "application/vnd.databricks.v1+cell": {
     "cellMetadata": {
      "byteLimit": 2048000,
      "rowLimit": 10000
     },
     "inputWidgets": {},
     "nuid": "2a6d0c4a-e705-40c4-a6d2-afb1cff06275",
     "showTitle": false,
     "tableResultSettingsMap": {},
     "title": ""
    }
   },
   "outputs": [
    {
     "output_type": "stream",
     "name": "stdout",
     "output_type": "stream",
     "text": [
      "root\n |-- PeliculaID: integer (nullable = true)\n |-- Critico: string (nullable = true)\n |-- Puntuacion: float (nullable = true)\n\n"
     ]
    }
   ],
   "source": [
    "df = df.withColumn(\"PeliculaID\", col(\"PeliculaID\").cast(IntegerType()))\\\n",
    "    .withColumn(\"Critico\", col(\"Critico\").cast(StringType()))\\\n",
    "    .withColumn(\"Puntuacion\", col(\"Puntuacion\").cast(FloatType()))\n",
    "df.printSchema()"
   ]
  },
  {
   "cell_type": "code",
   "execution_count": 0,
   "metadata": {
    "application/vnd.databricks.v1+cell": {
     "cellMetadata": {
      "byteLimit": 2048000,
      "rowLimit": 10000
     },
     "inputWidgets": {},
     "nuid": "5773c9e9-8164-4f91-8bd3-ff5c98542e5d",
     "showTitle": false,
     "tableResultSettingsMap": {},
     "title": ""
    }
   },
   "outputs": [
    {
     "output_type": "stream",
     "name": "stdout",
     "output_type": "stream",
     "text": [
      "Out[15]: PeliculaID     int64\nTitulo        object\nAnio           int64\ndtype: object"
     ]
    }
   ],
   "source": [
    "pd_df = pd_df.astype({\"ID\":'int64', \"Titulo\":str, \"Anio\":'int64'}) \n",
    "pd_df = pd_df.rename(columns={\"ID\":\"PeliculaID\", \"Titulo\":\"Titulo\", \"Anio\":\"Anio\"})\n",
    "pd_df.dtypes"
   ]
  },
  {
   "cell_type": "markdown",
   "metadata": {
    "application/vnd.databricks.v1+cell": {
     "cellMetadata": {},
     "inputWidgets": {},
     "nuid": "26ab05a9-b1bb-460f-a035-394a4828ce43",
     "showTitle": false,
     "tableResultSettingsMap": {},
     "title": ""
    }
   },
   "source": [
    "## Integracion de dataframes a Spark"
   ]
  },
  {
   "cell_type": "code",
   "execution_count": 0,
   "metadata": {
    "application/vnd.databricks.v1+cell": {
     "cellMetadata": {
      "byteLimit": 2048000,
      "rowLimit": 10000
     },
     "inputWidgets": {},
     "nuid": "a22912b6-cb9d-446a-8b1f-a341c6a7f5d4",
     "showTitle": false,
     "tableResultSettingsMap": {},
     "title": ""
    }
   },
   "outputs": [
    {
     "output_type": "stream",
     "name": "stdout",
     "output_type": "stream",
     "text": [
      "+----------+----------+----+\n|PeliculaID|    Titulo|Anio|\n+----------+----------+----+\n|         1| Pelicula1|2020|\n|         2| Pelicula2|2021|\n|         3| Pelicula3|2022|\n|         4| Pelicula4|2019|\n|         5| Pelicula5|2018|\n|         6| Pelicula6|2017|\n|         7| Pelicula7|2023|\n|         8| Pelicula8|2024|\n|         9| Pelicula9|2025|\n|        10|Pelicula10|2019|\n+----------+----------+----+\n\n"
     ]
    }
   ],
   "source": [
    "sp_df = spark.createDataFrame(pd_df)\n",
    "sp_df.show()"
   ]
  },
  {
   "cell_type": "code",
   "execution_count": 0,
   "metadata": {
    "application/vnd.databricks.v1+cell": {
     "cellMetadata": {
      "byteLimit": 2048000,
      "rowLimit": 10000
     },
     "inputWidgets": {},
     "nuid": "2e924948-9c48-4255-ba7a-c43ebe8067cb",
     "showTitle": false,
     "tableResultSettingsMap": {},
     "title": ""
    }
   },
   "outputs": [
    {
     "output_type": "stream",
     "name": "stdout",
     "output_type": "stream",
     "text": [
      "+----------+----------+----+--------+----------+\n|PeliculaID|    Titulo|Anio| Critico|Puntuacion|\n+----------+----------+----+--------+----------+\n|         1| Pelicula1|2020|Critico1|       3.2|\n|         2| Pelicula2|2021|Critico2|       3.4|\n|         3| Pelicula3|2022|Critico3|       4.8|\n|         4| Pelicula4|2019|Critico1|       4.0|\n|         5| Pelicula5|2018|Critico2|       4.9|\n|         6| Pelicula6|2017|Critico3|       2.0|\n|         7| Pelicula7|2023|Critico1|       1.5|\n|         8| Pelicula8|2024|Critico2|       5.0|\n|         9| Pelicula9|2025|Critico3|       1.0|\n|        10|Pelicula10|2019|Critico0|       5.0|\n|         1| Pelicula1|2020|Critico1|       4.2|\n|         2| Pelicula2|2021|Critico2|       2.4|\n|         3| Pelicula3|2022|Critico3|       1.8|\n|         4| Pelicula4|2019|Critico1|       2.0|\n|         5| Pelicula5|2018|Critico2|       3.9|\n|         6| Pelicula6|2017|Critico3|       4.0|\n|         7| Pelicula7|2023|Critico1|       4.5|\n|         8| Pelicula8|2024|Critico2|       3.0|\n|         9| Pelicula9|2025|Critico3|       2.0|\n|        10|Pelicula10|2019|Critico0|       3.0|\n+----------+----------+----+--------+----------+\nonly showing top 20 rows\n\n"
     ]
    }
   ],
   "source": [
    "df_pelicula_critica = df.join(sp_df, df[\"PeliculaID\"] == sp_df[\"PeliculaID\"])\\\n",
    "    .select(\n",
    "        df[\"PeliculaID\"],\n",
    "        sp_df[\"Titulo\"],\n",
    "        sp_df[\"Anio\"],\n",
    "        df[\"Critico\"],\n",
    "        df[\"Puntuacion\"]\n",
    "    )\n",
    "df_pelicula_critica.show()"
   ]
  },
  {
   "cell_type": "code",
   "execution_count": 0,
   "metadata": {
    "application/vnd.databricks.v1+cell": {
     "cellMetadata": {
      "byteLimit": 2048000,
      "rowLimit": 10000
     },
     "inputWidgets": {},
     "nuid": "7f6980da-1441-4012-a264-3dfc0c75f535",
     "showTitle": false,
     "tableResultSettingsMap": {},
     "title": ""
    }
   },
   "outputs": [
    {
     "output_type": "stream",
     "name": "stdout",
     "output_type": "stream",
     "text": [
      "+----------+----------+----+------------------+\n|PeliculaID|    Titulo|Anio|PuntuacionPromedio|\n+----------+----------+----+------------------+\n|         2| Pelicula2|2021|3.4000000953674316|\n|         1| Pelicula1|2020|3.5333333015441895|\n|         3| Pelicula3|2022| 3.133333365122477|\n|         6| Pelicula6|2017|3.6666666666666665|\n|         4| Pelicula4|2019|               3.0|\n|         5| Pelicula5|2018| 4.233333428700765|\n|         9| Pelicula9|2025|2.3333333333333335|\n|         8| Pelicula8|2024|3.3333333333333335|\n|         7| Pelicula7|2023|3.1666666666666665|\n|        10|Pelicula10|2019| 4.333333333333333|\n+----------+----------+----+------------------+\n\n"
     ]
    }
   ],
   "source": [
    "df_pelicula_critica.\\\n",
    "    groupBy(\"PeliculaID\", \"Titulo\", \"Anio\").\\\n",
    "    agg(avg(\"Puntuacion\").alias(\"PuntuacionPromedio\"))\\\n",
    "    .show()"
   ]
  }
 ],
 "metadata": {
  "application/vnd.databricks.v1+notebook": {
   "computePreferences": null,
   "dashboards": [],
   "environmentMetadata": {
    "base_environment": "",
    "environment_version": "1"
   },
   "inputWidgetPreferences": null,
   "language": "python",
   "notebookMetadata": {
    "pythonIndentUnit": 4
   },
   "notebookName": "Ejercicio3",
   "widgets": {}
  }
 },
 "nbformat": 4,
 "nbformat_minor": 0
}