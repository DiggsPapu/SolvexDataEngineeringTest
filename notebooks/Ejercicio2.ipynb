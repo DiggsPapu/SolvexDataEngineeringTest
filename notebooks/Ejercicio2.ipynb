{
 "cells": [
  {
   "cell_type": "markdown",
   "metadata": {
    "application/vnd.databricks.v1+cell": {
     "cellMetadata": {},
     "inputWidgets": {},
     "nuid": "384451ac-c07e-486c-82d6-96ba59e6f724",
     "showTitle": false,
     "tableResultSettingsMap": {},
     "title": ""
    }
   },
   "source": [
    "# Ejercicio 2\n",
    " \n",
    "Utiliza Apache Spark y un conjunto de datos público de vuelos, como el conjunto de datos de vuelos de 2015 proporcionado por la Oficina de Estadísticas de Transporte de EE. UU., para realizar las siguientes tareas: \n",
    " \n",
    "a)  Descarga los datos de vuelos en formato CSV desde la URL pública. \n",
    "\n",
    "b)  Carga los datos en un DataFrame de Spark. \n",
    "\n",
    "c)  Calcula la cantidad promedio de retrasos en la llegada de vuelos en un aeropuerto específico. \n",
    "\n",
    "d)  Encuentra las 10 rutas de vuelo más populares (pares de aeropuertos) en términos de la cantidad de vuelos."
   ]
  },
  {
   "cell_type": "markdown",
   "metadata": {
    "application/vnd.databricks.v1+cell": {
     "cellMetadata": {},
     "inputWidgets": {},
     "nuid": "48a3b4f3-60a2-4aa1-88ec-d406447c46c8",
     "showTitle": false,
     "tableResultSettingsMap": {},
     "title": ""
    }
   },
   "source": [
    "## Importar Librerias"
   ]
  },
  {
   "cell_type": "code",
   "execution_count": 0,
   "metadata": {
    "application/vnd.databricks.v1+cell": {
     "cellMetadata": {
      "byteLimit": 2048000,
      "rowLimit": 10000
     },
     "inputWidgets": {},
     "nuid": "831eece4-aefa-4aac-9be9-0987b6f5a794",
     "showTitle": false,
     "tableResultSettingsMap": {},
     "title": ""
    }
   },
   "outputs": [
    {
     "output_type": "display_data",
     "data": {
      "application/vnd.databricks.v1+bamboolib_hint": "{\"pd.DataFrames\": [], \"version\": \"0.0.1\"}",
      "text/plain": []
     },
     "metadata": {},
     "output_type": "display_data"
    }
   ],
   "source": [
    "from pyspark.sql import SparkSession\n",
    "from pyspark.sql.types import IntegerType, StringType, FloatType\n",
    "from pyspark.sql.functions import avg, count, expr\n",
    "import pandas as pd\n",
    "from pyspark.sql.functions import col"
   ]
  },
  {
   "cell_type": "markdown",
   "metadata": {
    "application/vnd.databricks.v1+cell": {
     "cellMetadata": {},
     "inputWidgets": {},
     "nuid": "c5b2b9d7-c831-4a2f-a93a-b7d83173a571",
     "showTitle": false,
     "tableResultSettingsMap": {},
     "title": ""
    }
   },
   "source": [
    "## Crear la sesion"
   ]
  },
  {
   "cell_type": "code",
   "execution_count": 0,
   "metadata": {
    "application/vnd.databricks.v1+cell": {
     "cellMetadata": {
      "byteLimit": 2048000,
      "rowLimit": 10000
     },
     "inputWidgets": {},
     "nuid": "37c2c2ce-ae35-4168-9d18-2b31c9561863",
     "showTitle": false,
     "tableResultSettingsMap": {},
     "title": ""
    }
   },
   "outputs": [],
   "source": [
    "spark = SparkSession.builder \\\n",
    "    .master(\"local\") \\\n",
    "    .appName(\"Ejercicio 3\") \\\n",
    "    .getOrCreate()"
   ]
  },
  {
   "cell_type": "markdown",
   "metadata": {
    "application/vnd.databricks.v1+cell": {
     "cellMetadata": {},
     "inputWidgets": {},
     "nuid": "7b40b305-97ce-4b45-976a-2f4ed2d511dc",
     "showTitle": false,
     "tableResultSettingsMap": {},
     "title": ""
    }
   },
   "source": [
    "## Cargar los datos a un dataframe"
   ]
  },
  {
   "cell_type": "code",
   "execution_count": 0,
   "metadata": {
    "application/vnd.databricks.v1+cell": {
     "cellMetadata": {
      "byteLimit": 2048000,
      "rowLimit": 10000
     },
     "inputWidgets": {},
     "nuid": "bbfdb3c1-b450-4c4b-8ca8-1b50793b1b31",
     "showTitle": false,
     "tableResultSettingsMap": {},
     "title": ""
    }
   },
   "outputs": [],
   "source": [
    "# Funcion para detectar la moda en una lista\n",
    "def find_mode_manual(data_list):\n",
    "    if not data_list:\n",
    "        return None\n",
    "\n",
    "    counts = {}\n",
    "    for item in data_list:\n",
    "        counts[item] = counts.get(item, 0) + 1\n",
    "\n",
    "    max_count = 0\n",
    "    mode_value = None\n",
    "\n",
    "    for item, count in counts.items():\n",
    "        if count > max_count:\n",
    "            max_count = count\n",
    "            mode_value = item\n",
    "        elif count == max_count and mode_value is not None:\n",
    "            mode_value = None\n",
    "    \n",
    "    if max_count == 1:\n",
    "      return None\n",
    "\n",
    "    return mode_value"
   ]
  },
  {
   "cell_type": "code",
   "execution_count": 0,
   "metadata": {
    "application/vnd.databricks.v1+cell": {
     "cellMetadata": {
      "byteLimit": 2048000,
      "rowLimit": 10000
     },
     "inputWidgets": {},
     "nuid": "6a3a00f9-c0f5-4a63-855f-595bafae45ca",
     "showTitle": false,
     "tableResultSettingsMap": {},
     "title": ""
    }
   },
   "outputs": [],
   "source": [
    "# Funcion para detectar el delimitador \n",
    "def detect_which_delimiter(file_path, sample_lines=5):\n",
    "    try:\n",
    "        file_content = dbutils.fs.head(file_path)\n",
    "    except Exception as e:\n",
    "        print(f\"Error reading file: {e}\")\n",
    "        return None\n",
    "    \n",
    "    lines = file_content.split('\\n')\n",
    "    if not lines:\n",
    "        return None\n",
    "    \n",
    "    delimiters = [',', '\\t', ';', '|', ' ']\n",
    "    delimiter_counts = {delim: [] for delim in delimiters}\n",
    "    \n",
    "    for line in lines:\n",
    "        if not line.strip():\n",
    "            continue\n",
    "        for delim in delimiters:\n",
    "            delimiter_counts[delim].append(line.count(delim))\n",
    "    \n",
    "    detected_delimiter = None\n",
    "    max_val = 0\n",
    "    for delim in delimiters:\n",
    "        val = find_mode_manual(delimiter_counts[delim])\n",
    "        if max_val < val:\n",
    "            max_val = val\n",
    "            detected_delimiter = delim\n",
    "\n",
    "    return detected_delimiter"
   ]
  },
  {
   "cell_type": "code",
   "execution_count": 0,
   "metadata": {
    "application/vnd.databricks.v1+cell": {
     "cellMetadata": {
      "byteLimit": 2048000,
      "rowLimit": 10000
     },
     "inputWidgets": {},
     "nuid": "642b1498-8d86-4358-aaef-f6f35067b16f",
     "showTitle": false,
     "tableResultSettingsMap": {},
     "title": ""
    }
   },
   "outputs": [
    {
     "output_type": "stream",
     "name": "stdout",
     "output_type": "stream",
     "text": [
      "[Truncated to first 65536 bytes]\n[Truncated to first 65536 bytes]\n[Truncated to first 65536 bytes]\n[Truncated to first 65536 bytes]\n[Truncated to first 65536 bytes]\n[Truncated to first 65536 bytes]\n[Truncated to first 65536 bytes]\n[Truncated to first 65536 bytes]\n[Truncated to first 65536 bytes]\n[Truncated to first 65536 bytes]\n[Truncated to first 65536 bytes]\n[Truncated to first 65536 bytes]\n"
     ]
    }
   ],
   "source": [
    "# No hice esto porque no se podian leer ciertos archivos dado que tenían diferente delimitador\n",
    "# df = spark.read\\\n",
    "#   .option(\"delimiter\", \",\")\\\n",
    "#   .csv(\"/FileStore/DataEjercicio2\", inferSchema=True, header=True)\n",
    "# df.show()\n",
    "# Tambien no defini un esquema porque habian muchas columnas y a pesar que la mejor practica es hacerlo y podia definirlo, la verdad para este ejercicio no lo vi necesario dado que no es la vida real así que solo hice un infer schema\n",
    "path = \"/FileStore/DataEjercicio2\"\n",
    "dfs = []\n",
    "for csv in dbutils.fs.ls(path):\n",
    "    csv_path = csv.path.split(\":\")[1]\n",
    "    delimiter = detect_which_delimiter(csv_path)\n",
    "    df = spark.read\\\n",
    "        .option(\"delimiter\", delimiter)\\\n",
    "        .csv(csv_path, inferSchema=True, header=True)\n",
    "    dfs.append(df)"
   ]
  },
  {
   "cell_type": "code",
   "execution_count": 0,
   "metadata": {
    "application/vnd.databricks.v1+cell": {
     "cellMetadata": {
      "byteLimit": 2048000,
      "rowLimit": 10000
     },
     "inputWidgets": {},
     "nuid": "ee596d66-0731-4c25-8308-7908fe4d2213",
     "showTitle": false,
     "tableResultSettingsMap": {},
     "title": ""
    }
   },
   "outputs": [
    {
     "output_type": "stream",
     "name": "stdout",
     "output_type": "stream",
     "text": [
      "+----+-------+-----+------------+-----------+--------------------+-----------------+---------------------+----------+--------+-----------------+-----------------+---------------------+---------------------+------+--------------------+----------------+-----------------+---------------+----------+---------------+-------------------+-------------------+----+--------------------+--------------+---------------+-------------+--------+------------+--------+---------+-------------+---------+---------------+------------+--------+---------+-------+------------+--------+---------+-------------+---------+---------------+------------+---------+-----------------+--------+----------------+-------------------+--------+-------+--------+--------------+-------------+-------------+---------+--------------+-------------------+--------------+---------------+-----------------+--------------------+----------------+-----------------------+-------------+------------+------------+---------------+-------------------+--------------+----------------+------------------+---------------+-------------+------------+---------------+-------------------+--------------+----------------+------------------+---------------+-------------+------------+---------------+-------------------+--------------+----------------+------------------+---------------+-------------+------------+---------------+-------------------+--------------+----------------+------------------+---------------+-------------+------------+---------------+-------------------+--------------+----------------+------------------+---------------+-------------+\n|YEAR|QUARTER|MONTH|DAY_OF_MONTH|DAY_OF_WEEK|             FL_DATE|OP_UNIQUE_CARRIER|OP_CARRIER_AIRLINE_ID|OP_CARRIER|TAIL_NUM|OP_CARRIER_FL_NUM|ORIGIN_AIRPORT_ID|ORIGIN_AIRPORT_SEQ_ID|ORIGIN_CITY_MARKET_ID|ORIGIN|    ORIGIN_CITY_NAME|ORIGIN_STATE_ABR|ORIGIN_STATE_FIPS|ORIGIN_STATE_NM|ORIGIN_WAC|DEST_AIRPORT_ID|DEST_AIRPORT_SEQ_ID|DEST_CITY_MARKET_ID|DEST|      DEST_CITY_NAME|DEST_STATE_ABR|DEST_STATE_FIPS|DEST_STATE_NM|DEST_WAC|CRS_DEP_TIME|DEP_TIME|DEP_DELAY|DEP_DELAY_NEW|DEP_DEL15|DEP_DELAY_GROUP|DEP_TIME_BLK|TAXI_OUT|WHEELS_ON|TAXI_IN|CRS_ARR_TIME|ARR_TIME|ARR_DELAY|ARR_DELAY_NEW|ARR_DEL15|ARR_DELAY_GROUP|ARR_TIME_BLK|CANCELLED|CANCELLATION_CODE|DIVERTED|CRS_ELAPSED_TIME|ACTUAL_ELAPSED_TIME|AIR_TIME|FLIGHTS|DISTANCE|DISTANCE_GROUP|CARRIER_DELAY|WEATHER_DELAY|NAS_DELAY|SECURITY_DELAY|LATE_AIRCRAFT_DELAY|FIRST_DEP_TIME|TOTAL_ADD_GTIME|LONGEST_ADD_GTIME|DIV_AIRPORT_LANDINGS|DIV_REACHED_DEST|DIV_ACTUAL_ELAPSED_TIME|DIV_ARR_DELAY|DIV_DISTANCE|DIV1_AIRPORT|DIV1_AIRPORT_ID|DIV1_AIRPORT_SEQ_ID|DIV1_WHEELS_ON|DIV1_TOTAL_GTIME|DIV1_LONGEST_GTIME|DIV1_WHEELS_OFF|DIV1_TAIL_NUM|DIV2_AIRPORT|DIV2_AIRPORT_ID|DIV2_AIRPORT_SEQ_ID|DIV2_WHEELS_ON|DIV2_TOTAL_GTIME|DIV2_LONGEST_GTIME|DIV2_WHEELS_OFF|DIV2_TAIL_NUM|DIV3_AIRPORT|DIV3_AIRPORT_ID|DIV3_AIRPORT_SEQ_ID|DIV3_WHEELS_ON|DIV3_TOTAL_GTIME|DIV3_LONGEST_GTIME|DIV3_WHEELS_OFF|DIV3_TAIL_NUM|DIV4_AIRPORT|DIV4_AIRPORT_ID|DIV4_AIRPORT_SEQ_ID|DIV4_WHEELS_ON|DIV4_TOTAL_GTIME|DIV4_LONGEST_GTIME|DIV4_WHEELS_OFF|DIV4_TAIL_NUM|DIV5_AIRPORT|DIV5_AIRPORT_ID|DIV5_AIRPORT_SEQ_ID|DIV5_WHEELS_ON|DIV5_TOTAL_GTIME|DIV5_LONGEST_GTIME|DIV5_WHEELS_OFF|DIV5_TAIL_NUM|\n+----+-------+-----+------------+-----------+--------------------+-----------------+---------------------+----------+--------+-----------------+-----------------+---------------------+---------------------+------+--------------------+----------------+-----------------+---------------+----------+---------------+-------------------+-------------------+----+--------------------+--------------+---------------+-------------+--------+------------+--------+---------+-------------+---------+---------------+------------+--------+---------+-------+------------+--------+---------+-------------+---------+---------------+------------+---------+-----------------+--------+----------------+-------------------+--------+-------+--------+--------------+-------------+-------------+---------+--------------+-------------------+--------------+---------------+-----------------+--------------------+----------------+-----------------------+-------------+------------+------------+---------------+-------------------+--------------+----------------+------------------+---------------+-------------+------------+---------------+-------------------+--------------+----------------+------------------+---------------+-------------+------------+---------------+-------------------+--------------+----------------+------------------+---------------+-------------+------------+---------------+-------------------+--------------+----------------+------------------+---------------+-------------+------------+---------------+-------------------+--------------+----------------+------------------+---------------+-------------+\n|2015|      2|    4|           1|          3|4/1/2015 12:00:00 AM|               AA|                19805|        AA|  N001AA|              142|            11298|              1129804|                30194|   DFW|Dallas/Fort Worth...|              TX|               48|          Texas|        74|          12896|            1289605|              32896| LBB|         Lubbock, TX|            TX|             48|        Texas|      74|        1850|    1901|     11.0|         11.0|      0.0|              0|   1800-1859|    17.0|     2007|    4.0|        2009|    2011|      2.0|          2.0|      0.0|              0|   2000-2059|      0.0|             null|     0.0|            79.0|               70.0|    49.0|    1.0|   282.0|             2|         null|         null|     null|          null|               null|          null|           null|             null|                   0|            null|                   null|         null|        null|        null|           null|               null|          null|            null|              null|           null|         null|        null|           null|               null|          null|            null|              null|           null|         null|        null|           null|               null|          null|            null|              null|           null|         null|        null|           null|               null|          null|            null|              null|           null|         null|        null|           null|               null|          null|            null|              null|           null|         null|\n|2015|      2|    4|           1|          3|4/1/2015 12:00:00 AM|               AA|                19805|        AA|  N001AA|              356|            10397|              1039705|                30397|   ATL|         Atlanta, GA|              GA|               13|        Georgia|        34|          11298|            1129804|              30194| DFW|Dallas/Fort Worth...|            TX|             48|        Texas|      74|        1559|    1635|     36.0|         36.0|      1.0|              2|   1500-1559|    14.0|     1753|   10.0|        1727|    1803|     36.0|         36.0|      1.0|              2|   1700-1759|      0.0|             null|     0.0|           148.0|              148.0|   124.0|    1.0|   731.0|             3|          2.0|          0.0|      0.0|           0.0|               34.0|          null|           null|             null|                   0|            null|                   null|         null|        null|        null|           null|               null|          null|            null|              null|           null|         null|        null|           null|               null|          null|            null|              null|           null|         null|        null|           null|               null|          null|            null|              null|           null|         null|        null|           null|               null|          null|            null|              null|           null|         null|        null|           null|               null|          null|            null|              null|           null|         null|\n|2015|      2|    4|           1|          3|4/1/2015 12:00:00 AM|               AA|                19805|        AA|  N001AA|              356|            11298|              1129804|                30194|   DFW|Dallas/Fort Worth...|              TX|               48|          Texas|        74|          10397|            1039705|              30397| ATL|         Atlanta, GA|            GA|             13|      Georgia|      34|        1154|    1249|     55.0|         55.0|      1.0|              3|   1100-1159|    11.0|     1537|   16.0|        1508|    1553|     45.0|         45.0|      1.0|              3|   1500-1559|      0.0|             null|     0.0|           134.0|              124.0|    97.0|    1.0|   731.0|             3|         45.0|          0.0|      0.0|           0.0|                0.0|          null|           null|             null|                   0|            null|                   null|         null|        null|        null|           null|               null|          null|            null|              null|           null|         null|        null|           null|               null|          null|            null|              null|           null|         null|        null|           null|               null|          null|            null|              null|           null|         null|        null|           null|               null|          null|            null|              null|           null|         null|        null|           null|               null|          null|            null|              null|           null|         null|\n|2015|      2|    4|           1|          3|4/1/2015 12:00:00 AM|               AA|                19805|        AA|  N002AA|             1161|            13303|              1330303|                32467|   MIA|           Miami, FL|              FL|               12|        Florida|        33|          15304|            1530402|              33195| TPA|           Tampa, FL|            FL|             12|      Florida|      33|        1010|    1010|      0.0|          0.0|      0.0|              0|   1000-1059|    18.0|     1105|    4.0|        1120|    1109|    -11.0|          0.0|      0.0|             -1|   1100-1159|      0.0|             null|     0.0|            70.0|               59.0|    37.0|    1.0|   204.0|             1|         null|         null|     null|          null|               null|          null|           null|             null|                   0|            null|                   null|         null|        null|        null|           null|               null|          null|            null|              null|           null|         null|        null|           null|               null|          null|            null|              null|           null|         null|        null|           null|               null|          null|            null|              null|           null|         null|        null|           null|               null|          null|            null|              null|           null|         null|        null|           null|               null|          null|            null|              null|           null|         null|\n|2015|      2|    4|           1|          3|4/1/2015 12:00:00 AM|               AA|                19805|        AA|  N002AA|             1161|            15304|              1530402|                33195|   TPA|           Tampa, FL|              FL|               12|        Florida|        33|          13303|            1330303|              32467| MIA|           Miami, FL|            FL|             12|      Florida|      33|        1210|    1206|     -4.0|          0.0|      0.0|             -1|   1200-1259|    11.0|     1255|    6.0|        1312|    1301|    -11.0|          0.0|      0.0|             -1|   1300-1359|      0.0|             null|     0.0|            62.0|               55.0|    38.0|    1.0|   204.0|             1|         null|         null|     null|          null|               null|          null|           null|             null|                   0|            null|                   null|         null|        null|        null|           null|               null|          null|            null|              null|           null|         null|        null|           null|               null|          null|            null|              null|           null|         null|        null|           null|               null|          null|            null|              null|           null|         null|        null|           null|               null|          null|            null|              null|           null|         null|        null|           null|               null|          null|            null|              null|           null|         null|\n|2015|      2|    4|           1|          3|4/1/2015 12:00:00 AM|               AA|                19805|        AA|  N002AA|               17|            10397|              1039705|                30397|   ATL|         Atlanta, GA|              GA|               13|        Georgia|        34|          13303|            1330303|              32467| MIA|           Miami, FL|            FL|             12|      Florida|      33|         705|     705|      0.0|          0.0|      0.0|              0|   0700-0759|    14.0|      848|    8.0|         858|     856|     -2.0|          0.0|      0.0|             -1|   0800-0859|      0.0|             null|     0.0|           113.0|              111.0|    89.0|    1.0|   594.0|             3|         null|         null|     null|          null|               null|          null|           null|             null|                   0|            null|                   null|         null|        null|        null|           null|               null|          null|            null|              null|           null|         null|        null|           null|               null|          null|            null|              null|           null|         null|        null|           null|               null|          null|            null|              null|           null|         null|        null|           null|               null|          null|            null|              null|           null|         null|        null|           null|               null|          null|            null|              null|           null|         null|\n|2015|      2|    4|           1|          3|4/1/2015 12:00:00 AM|               AA|                19805|        AA|  N002AA|             2321|            13303|              1330303|                32467|   MIA|           Miami, FL|              FL|               12|        Florida|        33|          15016|            1501603|              31123| STL|       St. Louis, MO|            MO|             29|     Missouri|      64|        1820|    1827|      7.0|          7.0|      0.0|              0|   1800-1859|    13.0|     2012|    4.0|        2014|    2016|      2.0|          2.0|      0.0|              0|   2000-2059|      0.0|             null|     0.0|           174.0|              169.0|   152.0|    1.0|  1068.0|             5|         null|         null|     null|          null|               null|          null|           null|             null|                   0|            null|                   null|         null|        null|        null|           null|               null|          null|            null|              null|           null|         null|        null|           null|               null|          null|            null|              null|           null|         null|        null|           null|               null|          null|            null|              null|           null|         null|        null|           null|               null|          null|            null|              null|           null|         null|        null|           null|               null|          null|            null|              null|           null|         null|\n|2015|      2|    4|           1|          3|4/1/2015 12:00:00 AM|               AA|                19805|        AA|  N005AA|             1480|            11298|              1129804|                30194|   DFW|Dallas/Fort Worth...|              TX|               48|          Texas|        74|          13198|            1319801|              33198| MCI|     Kansas City, MO|            MO|             29|     Missouri|      64|        1330|    1355|     25.0|         25.0|      1.0|              1|   1300-1359|    17.0|     1520|    6.0|        1506|    1526|     20.0|         20.0|      1.0|              1|   1500-1559|      0.0|             null|     0.0|            96.0|               91.0|    68.0|    1.0|   460.0|             2|          2.0|          0.0|      0.0|           0.0|               18.0|          null|           null|             null|                   0|            null|                   null|         null|        null|        null|           null|               null|          null|            null|              null|           null|         null|        null|           null|               null|          null|            null|              null|           null|         null|        null|           null|               null|          null|            null|              null|           null|         null|        null|           null|               null|          null|            null|              null|           null|         null|        null|           null|               null|          null|            null|              null|           null|         null|\n|2015|      2|    4|           1|          3|4/1/2015 12:00:00 AM|               AA|                19805|        AA|  N005AA|             1480|            13198|              1319801|                33198|   MCI|     Kansas City, MO|              MO|               29|       Missouri|        64|          11298|            1129804|              30194| DFW|Dallas/Fort Worth...|            TX|             48|        Texas|      74|        1550|    1823|    153.0|        153.0|      1.0|             10|   1500-1559|    13.0|     1957|    5.0|        1734|    2002|    148.0|        148.0|      1.0|              9|   1700-1759|      0.0|             null|     0.0|           104.0|               99.0|    81.0|    1.0|   460.0|             2|        133.0|          0.0|      0.0|           0.0|               15.0|          null|           null|             null|                   0|            null|                   null|         null|        null|        null|           null|               null|          null|            null|              null|           null|         null|        null|           null|               null|          null|            null|              null|           null|         null|        null|           null|               null|          null|            null|              null|           null|         null|        null|           null|               null|          null|            null|              null|           null|         null|        null|           null|               null|          null|            null|              null|           null|         null|\n|2015|      2|    4|           1|          3|4/1/2015 12:00:00 AM|               AA|                19805|        AA|  N006AA|             2388|            13303|              1330303|                32467|   MIA|           Miami, FL|              FL|               12|        Florida|        33|          10397|            1039705|              30397| ATL|         Atlanta, GA|            GA|             13|      Georgia|      34|        2105|    2103|     -2.0|          0.0|      0.0|             -1|   2100-2159|    22.0|     2252|    5.0|        2304|    2257|     -7.0|          0.0|      0.0|             -1|   2300-2359|      0.0|             null|     0.0|           119.0|              114.0|    87.0|    1.0|   594.0|             3|         null|         null|     null|          null|               null|          null|           null|             null|                   0|            null|                   null|         null|        null|        null|           null|               null|          null|            null|              null|           null|         null|        null|           null|               null|          null|            null|              null|           null|         null|        null|           null|               null|          null|            null|              null|           null|         null|        null|           null|               null|          null|            null|              null|           null|         null|        null|           null|               null|          null|            null|              null|           null|         null|\n|2015|      2|    4|           1|          3|4/1/2015 12:00:00 AM|               AA|                19805|        AA|  N007AA|             1641|            12266|              1226603|                31453|   IAH|         Houston, TX|              TX|               48|          Texas|        74|          13303|            1330303|              32467| MIA|           Miami, FL|            FL|             12|      Florida|      33|        1640|    1635|     -5.0|          0.0|      0.0|             -1|   1600-1659|    14.0|     1949|   14.0|        2006|    2003|     -3.0|          0.0|      0.0|             -1|   2000-2059|      0.0|             null|     0.0|           146.0|              148.0|   120.0|    1.0|   964.0|             4|         null|         null|     null|          null|               null|          null|           null|             null|                   0|            null|                   null|         null|        null|        null|           null|               null|          null|            null|              null|           null|         null|        null|           null|               null|          null|            null|              null|           null|         null|        null|           null|               null|          null|            null|              null|           null|         null|        null|           null|               null|          null|            null|              null|           null|         null|        null|           null|               null|          null|            null|              null|           null|         null|\n|2015|      2|    4|           1|          3|4/1/2015 12:00:00 AM|               AA|                19805|        AA|  N007AA|             1641|            13303|              1330303|                32467|   MIA|           Miami, FL|              FL|               12|        Florida|        33|          12266|            1226603|              31453| IAH|         Houston, TX|            TX|             48|        Texas|      74|        1400|    1353|     -7.0|          0.0|      0.0|             -1|   1400-1459|    14.0|     1540|    9.0|        1553|    1549|     -4.0|          0.0|      0.0|             -1|   1500-1559|      0.0|             null|     0.0|           173.0|              176.0|   153.0|    1.0|   964.0|             4|         null|         null|     null|          null|               null|          null|           null|             null|                   0|            null|                   null|         null|        null|        null|           null|               null|          null|            null|              null|           null|         null|        null|           null|               null|          null|            null|              null|           null|         null|        null|           null|               null|          null|            null|              null|           null|         null|        null|           null|               null|          null|            null|              null|           null|         null|        null|           null|               null|          null|            null|              null|           null|         null|\n|2015|      2|    4|           1|          3|4/1/2015 12:00:00 AM|               AA|                19805|        AA|  N009AA|             1142|            11298|              1129804|                30194|   DFW|Dallas/Fort Worth...|              TX|               48|          Texas|        74|          12012|            1201202|              32012| GUC|        Gunnison, CO|            CO|              8|     Colorado|      82|        1254|    1246|     -8.0|          0.0|      0.0|             -1|   1200-1259|     9.0|     1331|    3.0|        1359|    1334|    -25.0|          0.0|      0.0|             -2|   1300-1359|      0.0|             null|     0.0|           125.0|              108.0|    96.0|    1.0|   678.0|             3|         null|         null|     null|          null|               null|          null|           null|             null|                   0|            null|                   null|         null|        null|        null|           null|               null|          null|            null|              null|           null|         null|        null|           null|               null|          null|            null|              null|           null|         null|        null|           null|               null|          null|            null|              null|           null|         null|        null|           null|               null|          null|            null|              null|           null|         null|        null|           null|               null|          null|            null|              null|           null|         null|\n|2015|      2|    4|           1|          3|4/1/2015 12:00:00 AM|               AA|                19805|        AA|  N009AA|             1142|            12012|              1201202|                32012|   GUC|        Gunnison, CO|              CO|                8|       Colorado|        82|          11298|            1129804|              30194| DFW|Dallas/Fort Worth...|            TX|             48|        Texas|      74|        1439|    1421|    -18.0|          0.0|      0.0|             -2|   1400-1459|     9.0|     1710|   34.0|        1735|    1744|      9.0|          9.0|      0.0|              0|   1700-1759|      0.0|             null|     0.0|           116.0|              143.0|   100.0|    1.0|   678.0|             3|         null|         null|     null|          null|               null|          null|           null|             null|                   0|            null|                   null|         null|        null|        null|           null|               null|          null|            null|              null|           null|         null|        null|           null|               null|          null|            null|              null|           null|         null|        null|           null|               null|          null|            null|              null|           null|         null|        null|           null|               null|          null|            null|              null|           null|         null|        null|           null|               null|          null|            null|              null|           null|         null|\n|2015|      2|    4|           1|          3|4/1/2015 12:00:00 AM|               AA|                19805|        AA|  N009AA|             1588|            12441|              1244102|                32441|   JAC|         Jackson, WY|              WY|               56|        Wyoming|        88|          11298|            1129804|              30194| DFW|Dallas/Fort Worth...|            TX|             48|        Texas|      74|         825|     810|    -15.0|          0.0|      0.0|             -1|   0800-0859|    10.0|     1131|    7.0|        1209|    1138|    -31.0|          0.0|      0.0|             -2|   1200-1259|      0.0|             null|     0.0|           164.0|              148.0|   131.0|    1.0|  1047.0|             5|         null|         null|     null|          null|               null|          null|           null|             null|                   0|            null|                   null|         null|        null|        null|           null|               null|          null|            null|              null|           null|         null|        null|           null|               null|          null|            null|              null|           null|         null|        null|           null|               null|          null|            null|              null|           null|         null|        null|           null|               null|          null|            null|              null|           null|         null|        null|           null|               null|          null|            null|              null|           null|         null|\n|2015|      2|    4|           1|          3|4/1/2015 12:00:00 AM|               AA|                19805|        AA|  N010AA|             1301|            13303|              1330303|                32467|   MIA|           Miami, FL|              FL|               12|        Florida|        33|          12266|            1226603|              31453| IAH|         Houston, TX|            TX|             48|        Texas|      74|         705|     700|     -5.0|          0.0|      0.0|             -1|   0700-0759|    11.0|      824|   10.0|         859|     834|    -25.0|          0.0|      0.0|             -2|   0800-0859|      0.0|             null|     0.0|           174.0|              154.0|   133.0|    1.0|   964.0|             4|         null|         null|     null|          null|               null|          null|           null|             null|                   0|            null|                   null|         null|        null|        null|           null|               null|          null|            null|              null|           null|         null|        null|           null|               null|          null|            null|              null|           null|         null|        null|           null|               null|          null|            null|              null|           null|         null|        null|           null|               null|          null|            null|              null|           null|         null|        null|           null|               null|          null|            null|              null|           null|         null|\n|2015|      2|    4|           1|          3|4/1/2015 12:00:00 AM|               AA|                19805|        AA|  N010AA|             1466|            11298|              1129804|                30194|   DFW|Dallas/Fort Worth...|              TX|               48|          Texas|        74|          13342|            1334205|              33342| MKE|       Milwaukee, WI|            WI|             55|    Wisconsin|      45|        1200|    1206|      6.0|          6.0|      0.0|              0|   1200-1259|    24.0|     1431|    8.0|        1429|    1439|     10.0|         10.0|      0.0|              0|   1400-1459|      0.0|             null|     0.0|           149.0|              153.0|   121.0|    1.0|   853.0|             4|         null|         null|     null|          null|               null|          null|           null|             null|                   0|            null|                   null|         null|        null|        null|           null|               null|          null|            null|              null|           null|         null|        null|           null|               null|          null|            null|              null|           null|         null|        null|           null|               null|          null|            null|              null|           null|         null|        null|           null|               null|          null|            null|              null|           null|         null|        null|           null|               null|          null|            null|              null|           null|         null|\n|2015|      2|    4|           1|          3|4/1/2015 12:00:00 AM|               AA|                19805|        AA|  N010AA|             1466|            13342|              1334205|                33342|   MKE|       Milwaukee, WI|              WI|               55|      Wisconsin|        45|          11298|            1129804|              30194| DFW|Dallas/Fort Worth...|            TX|             48|        Texas|      74|        1510|    1519|      9.0|          9.0|      0.0|              0|   1500-1559|    16.0|     1752|   33.0|        1750|    1825|     35.0|         35.0|      1.0|              2|   1700-1759|      0.0|             null|     0.0|           160.0|              186.0|   137.0|    1.0|   853.0|             4|          0.0|          0.0|     26.0|           0.0|                9.0|          null|           null|             null|                   0|            null|                   null|         null|        null|        null|           null|               null|          null|            null|              null|           null|         null|        null|           null|               null|          null|            null|              null|           null|         null|        null|           null|               null|          null|            null|              null|           null|         null|        null|           null|               null|          null|            null|              null|           null|         null|        null|           null|               null|          null|            null|              null|           null|         null|\n|2015|      2|    4|           1|          3|4/1/2015 12:00:00 AM|               AA|                19805|        AA|  N010AA|             1604|            12266|              1226603|                31453|   IAH|         Houston, TX|              TX|               48|          Texas|        74|          11298|            1129804|              30194| DFW|Dallas/Fort Worth...|            TX|             48|        Texas|      74|         945|     941|     -4.0|          0.0|      0.0|             -1|   0900-0959|    11.0|     1035|    7.0|        1110|    1042|    -28.0|          0.0|      0.0|             -2|   1100-1159|      0.0|             null|     0.0|            85.0|               61.0|    43.0|    1.0|   224.0|             1|         null|         null|     null|          null|               null|          null|           null|             null|                   0|            null|                   null|         null|        null|        null|           null|               null|          null|            null|              null|           null|         null|        null|           null|               null|          null|            null|              null|           null|         null|        null|           null|               null|          null|            null|              null|           null|         null|        null|           null|               null|          null|            null|              null|           null|         null|        null|           null|               null|          null|            null|              null|           null|         null|\n|2015|      2|    4|           1|          3|4/1/2015 12:00:00 AM|               AA|                19805|        AA|  N011AA|             1046|            11298|              1129804|                30194|   DFW|Dallas/Fort Worth...|              TX|               48|          Texas|        74|          13198|            1319801|              33198| MCI|     Kansas City, MO|            MO|             29|     Missouri|      64|         754|     756|      2.0|          2.0|      0.0|              0|   0700-0759|    54.0|     1006|   12.0|         927|    1018|     51.0|         51.0|      1.0|              3|   0900-0959|      0.0|             null|     0.0|            93.0|              142.0|    76.0|    1.0|   460.0|             2|          0.0|          0.0|     51.0|           0.0|                0.0|          null|           null|             null|                   0|            null|                   null|         null|        null|        null|           null|               null|          null|            null|              null|           null|         null|        null|           null|               null|          null|            null|              null|           null|         null|        null|           null|               null|          null|            null|              null|           null|         null|        null|           null|               null|          null|            null|              null|           null|         null|        null|           null|               null|          null|            null|              null|           null|         null|\n+----+-------+-----+------------+-----------+--------------------+-----------------+---------------------+----------+--------+-----------------+-----------------+---------------------+---------------------+------+--------------------+----------------+-----------------+---------------+----------+---------------+-------------------+-------------------+----+--------------------+--------------+---------------+-------------+--------+------------+--------+---------+-------------+---------+---------------+------------+--------+---------+-------+------------+--------+---------+-------------+---------+---------------+------------+---------+-----------------+--------+----------------+-------------------+--------+-------+--------+--------------+-------------+-------------+---------+--------------+-------------------+--------------+---------------+-----------------+--------------------+----------------+-----------------------+-------------+------------+------------+---------------+-------------------+--------------+----------------+------------------+---------------+-------------+------------+---------------+-------------------+--------------+----------------+------------------+---------------+-------------+------------+---------------+-------------------+--------------+----------------+------------------+---------------+-------------+------------+---------------+-------------------+--------------+----------------+------------------+---------------+-------------+------------+---------------+-------------------+--------------+----------------+------------------+---------------+-------------+\nonly showing top 20 rows\n\n"
     ]
    }
   ],
   "source": [
    "result_df = None\n",
    "for df in dfs:\n",
    "    if result_df == None:\n",
    "        result_df = df\n",
    "    else:\n",
    "        result_df = result_df.union(df)\n",
    "result_df.show()"
   ]
  },
  {
   "cell_type": "markdown",
   "metadata": {
    "application/vnd.databricks.v1+cell": {
     "cellMetadata": {},
     "inputWidgets": {},
     "nuid": "dfdbd505-ae1a-4911-b530-3039fc5f2f10",
     "showTitle": false,
     "tableResultSettingsMap": {},
     "title": ""
    }
   },
   "source": [
    "## Calcula la cantidad promedio de retrasos en la llegada de vuelos en un aeropuerto específico."
   ]
  },
  {
   "cell_type": "code",
   "execution_count": 0,
   "metadata": {
    "application/vnd.databricks.v1+cell": {
     "cellMetadata": {
      "byteLimit": 2048000,
      "rowLimit": 10000
     },
     "inputWidgets": {},
     "nuid": "df8a6291-47c8-4004-bef1-5995d35c51c9",
     "showTitle": false,
     "tableResultSettingsMap": {},
     "title": ""
    }
   },
   "outputs": [
    {
     "output_type": "stream",
     "name": "stdout",
     "output_type": "stream",
     "text": [
      "+-----------------+\n|   avg(DEP_DELAY)|\n+-----------------+\n|3.659408381265407|\n+-----------------+\n\n"
     ]
    }
   ],
   "source": [
    "result_df.where(result_df[\"DEST\"] == \"IDA\")\\\n",
    "  .agg({\"DEP_DELAY\": \"avg\"})\\\n",
    "  .show()\n",
    "  # Calcular para el aeropuerto de IDA"
   ]
  },
  {
   "cell_type": "code",
   "execution_count": 0,
   "metadata": {
    "application/vnd.databricks.v1+cell": {
     "cellMetadata": {
      "byteLimit": 2048000,
      "rowLimit": 10000
     },
     "inputWidgets": {},
     "nuid": "6947eba6-4f41-4585-a7b9-e3f0e9b6478a",
     "showTitle": false,
     "tableResultSettingsMap": {},
     "title": ""
    }
   },
   "outputs": [
    {
     "output_type": "stream",
     "name": "stdout",
     "output_type": "stream",
     "text": [
      "+----+------------------+\n|DEST|    avg(DEP_DELAY)|\n+----+------------------+\n| PSE|14.323383084577115|\n| INL| 2.104669887278583|\n| MSY| 9.757205945201576|\n| PPG| 9.224137931034482|\n| GEG| 7.821969696969697|\n| SNA| 6.697584038813803|\n| BUR| 7.452513143025598|\n| GRB|  7.81866870696251|\n| GTF|3.3939252336448598|\n| IDA| 3.659408381265407|\n| GRR|10.024398714943128|\n| JLN|12.614285714285714|\n| PSG| 6.455431754874652|\n| EUG| 8.596414852752881|\n| PVD|10.452219145901502|\n| GSO|10.363520947947524|\n| MYR| 9.561557549150601|\n| OAK| 9.917056841552531|\n| MSN| 8.044538160872248|\n| FAR| 8.993307215148548|\n+----+------------------+\nonly showing top 20 rows\n\n"
     ]
    }
   ],
   "source": [
    "result_df.groupBy(\"DEST\")\\\n",
    "  .agg({\"DEP_DELAY\": \"avg\"})\\\n",
    "  .show()"
   ]
  },
  {
   "cell_type": "markdown",
   "metadata": {
    "application/vnd.databricks.v1+cell": {
     "cellMetadata": {},
     "inputWidgets": {},
     "nuid": "5f0a89cc-6032-40cc-9e16-e21626eafb9b",
     "showTitle": false,
     "tableResultSettingsMap": {},
     "title": ""
    }
   },
   "source": [
    "## Encuentra las 10 rutas de vuelo más populares (pares de aeropuertos) en términos de la cantidad de vuelos."
   ]
  },
  {
   "cell_type": "code",
   "execution_count": 0,
   "metadata": {
    "application/vnd.databricks.v1+cell": {
     "cellMetadata": {
      "byteLimit": 2048000,
      "rowLimit": 10000
     },
     "inputWidgets": {},
     "nuid": "2eaedc6d-af4c-47cc-b1e0-c02e595844c7",
     "showTitle": false,
     "tableResultSettingsMap": {},
     "title": ""
    }
   },
   "outputs": [
    {
     "output_type": "stream",
     "name": "stdout",
     "output_type": "stream",
     "text": [
      "+------+----+------------------+\n|ORIGIN|DEST|cantidad_de_vuelos|\n+------+----+------------------+\n|   SFO| LAX|             15116|\n|   LAX| SFO|             14799|\n|   JFK| LAX|             13113|\n|   LAX| JFK|             13106|\n|   LAS| LAX|             10657|\n|   LGA| ORD|             10560|\n|   LAX| LAS|             10539|\n|   ORD| LGA|             10492|\n|   JFK| SFO|              9280|\n|   SFO| JFK|              9279|\n+------+----+------------------+\n\n"
     ]
    }
   ],
   "source": [
    "result_df.groupBy(\"ORIGIN\", \"DEST\")\\\n",
    "  .agg(count(expr(\"*\")).alias(\"cantidad_de_vuelos\"))\\\n",
    "  .sort(\"cantidad_de_vuelos\",ascending=[False])\\\n",
    "  .limit(10)\\\n",
    "  .show()"
   ]
  },
  {
   "cell_type": "code",
   "execution_count": 0,
   "metadata": {
    "application/vnd.databricks.v1+cell": {
     "cellMetadata": {
      "byteLimit": 2048000,
      "rowLimit": 10000
     },
     "inputWidgets": {},
     "nuid": "b086fb8c-495f-4a0c-8e61-3f1aa7f4f225",
     "showTitle": false,
     "tableResultSettingsMap": {},
     "title": ""
    }
   },
   "outputs": [
    {
     "output_type": "stream",
     "name": "stdout",
     "output_type": "stream",
     "text": [
      "+------+----+------------------+\n|ORIGIN|DEST|cantidad_de_vuelos|\n+------+----+------------------+\n|   SFO| LAX|             15116|\n|   LAX| SFO|             14799|\n|   JFK| LAX|             13113|\n|   LAX| JFK|             13106|\n|   LAS| LAX|             10657|\n|   LGA| ORD|             10560|\n|   LAX| LAS|             10539|\n|   ORD| LGA|             10492|\n|   JFK| SFO|              9280|\n|   SFO| JFK|              9279|\n+------+----+------------------+\n\n"
     ]
    }
   ],
   "source": [
    "result_df.groupBy(\"ORIGIN\", \"DEST\")\\\n",
    "  .agg(count(expr(\"1\")).alias(\"cantidad_de_vuelos\"))\\\n",
    "  .sort(\"cantidad_de_vuelos\",ascending=[False])\\\n",
    "  .limit(10)\\\n",
    "  .show()"
   ]
  }
 ],
 "metadata": {
  "application/vnd.databricks.v1+notebook": {
   "computePreferences": null,
   "dashboards": [],
   "environmentMetadata": {
    "base_environment": "",
    "environment_version": "1"
   },
   "inputWidgetPreferences": null,
   "language": "python",
   "notebookMetadata": {
    "pythonIndentUnit": 4
   },
   "notebookName": "Ejercicio2",
   "widgets": {}
  }
 },
 "nbformat": 4,
 "nbformat_minor": 0
}